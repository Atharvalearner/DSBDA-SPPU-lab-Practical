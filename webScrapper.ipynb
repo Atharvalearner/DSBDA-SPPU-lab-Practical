{
 "cells": [
  {
   "cell_type": "code",
   "execution_count": 1,
   "id": "de8f5808",
   "metadata": {},
   "outputs": [],
   "source": [
    "import requests\n",
    "from bs4 import BeautifulSoup"
   ]
  },
  {
   "cell_type": "code",
   "execution_count": 37,
   "id": "fbcbd508",
   "metadata": {},
   "outputs": [],
   "source": [
    "def scrape_reviews(url):\n",
    "    response = requests.get(url)\n",
    "    soup = BeautifulSoup(response.text, 'html.parser')\n",
    "    review_containers = soup.find_all('div', class_='EGFGHd')\n",
    "    for review in review_containers:\n",
    "        review_text = review.find('div', class_='h3YV2d').text.strip()\n",
    "        customer_name = review.find('div', class_='X5PpBb').text.strip()\n",
    "        rating = review.find('div', class_='iXRFPc')['aria-label'].strip()\n",
    "        print(\"Customer Name:\", customer_name)\n",
    "        print(\"\\nRatings:\",rating)\n",
    "        print(\"\\nReview:\", review_text)\n",
    "        print(\"-------------------------------------\\n\")"
   ]
  },
  {
   "cell_type": "code",
   "execution_count": 38,
   "id": "ffa9e58d",
   "metadata": {
    "scrolled": false
   },
   "outputs": [
    {
     "name": "stdout",
     "output_type": "stream",
     "text": [
      "Customer Name: Edwin Lin\n",
      "\n",
      "Ratings: Rated 5 stars out of five stars\n",
      "\n",
      "Review: I have been playing the game since 2019. I was one of the few who started playing back when it was released in 2013. Ended up uninstalling it because I was quite busy with school back then when I was younger. Even though I am back in school now, I still enjoy playing the game, knowing that there are refreshing updates to make it better for the player base regardless of skill. Everyone has fun and learns from each other, which is why I highly recommend for you to join a clan when you reach level.\n",
      "-------------------------------------\n",
      "\n",
      "Customer Name: Chris Purdin\n",
      "\n",
      "Ratings: Rated 5 stars out of five stars\n",
      "\n",
      "Review: It's a great game. I have been playing for several years now. I really have no complaints about it except getting kicked off from time to time and it seems to happen when either your doing a raid or in the middle of a war or attack and outta nowhere you just lose connection. Now with excellent wifi as one connection and 5G as another connection one would think there is no way possible getting kicked off . But I was told updating the game stops this so I did that and it just kicked me again.\n",
      "-------------------------------------\n",
      "\n",
      "Customer Name: Trent Savage\n",
      "\n",
      "Ratings: Rated 4 stars out of five stars\n",
      "\n",
      "Review: Honestly, I absolutely love this game. It's a great way to pass the time. The competitive aspect of the game is amazing. The graphics are simplistic, nicely detailed and swift, also making the game accessible to many devices. I've been in and out of it and every time I come back, it's I worth it. The reason I'm not giving a five star rating is the long upgrades, there's too much delay which kind of takes away the fast pacedness of a strategic moba rpg.\n",
      "-------------------------------------\n",
      "\n"
     ]
    }
   ],
   "source": [
    "url=\"https://play.google.com/store/apps/details?id=com.supercell.clashofclans&pcampaignid=merch_published_cluster_promotion_battlestar_collection_new_games&hl=en&gl=US\"\n",
    "scrape_reviews(url)"
   ]
  }
 ],
 "metadata": {
  "kernelspec": {
   "display_name": "Python 3 (ipykernel)",
   "language": "python",
   "name": "python3"
  },
  "language_info": {
   "codemirror_mode": {
    "name": "ipython",
    "version": 3
   },
   "file_extension": ".py",
   "mimetype": "text/x-python",
   "name": "python",
   "nbconvert_exporter": "python",
   "pygments_lexer": "ipython3",
   "version": "3.11.3"
  }
 },
 "nbformat": 4,
 "nbformat_minor": 5
}
